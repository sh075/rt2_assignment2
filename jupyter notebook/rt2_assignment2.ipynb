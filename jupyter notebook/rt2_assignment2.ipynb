{
 "cells": [
  {
   "cell_type": "markdown",
   "id": "bccb8014",
   "metadata": {},
   "source": [
    "# rt2_assignment2"
   ]
  },
  {
   "cell_type": "code",
   "execution_count": 2,
   "id": "d5c34be5",
   "metadata": {},
   "outputs": [],
   "source": [
    "import rospy\n",
    "import time\n",
    "import jupyros as jr\n",
    "import matplotlib\n",
    "import ipywidgets as widgets\n",
    "import matplotlib.pyplot as plt\n",
    "import numpy as np\n",
    "import math\n",
    "import actionlib\n",
    "import actionlib.msg"
   ]
  },
  {
   "cell_type": "markdown",
   "id": "f9b596c5",
   "metadata": {},
   "source": [
    "With Jupyter we can use all the python modules that we can import from our 'standard' python shell. As an example, we can use matplotlib! By using the %matplotlib widget, we can have an interactive plot."
   ]
  },
  {
   "cell_type": "code",
   "execution_count": null,
   "id": "78c4571c",
   "metadata": {},
   "outputs": [],
   "source": [
    "%matplotlib widget\n",
    "\n",
    "from matplotlib.animation import FuncAnimation\n",
    "from nav_msgs.msg import Odometry\n",
    "from matplotlib import animation, rc\n",
    "from std_msgs.msg import String, Float64, Bool, Float32\n",
    "from rt2_assignment2.srv import Command\n",
    "from ipywidgets import interact,interactive,fixed,interact_manual\n",
    "from geometry_msgs.msg import Twist"
   ]
  },
  {
   "cell_type": "markdown",
   "id": "2b5e7566",
   "metadata": {},
   "source": [
    "# Initialization of Node and Global Variables "
   ]
  },
  {
   "cell_type": "code",
   "execution_count": 4,
   "id": "63292a04",
   "metadata": {},
   "outputs": [
    {
     "ename": "NameError",
     "evalue": "name 'Command' is not defined",
     "output_type": "error",
     "traceback": [
      "\u001b[0;31m---------------------------------------------------------------------------\u001b[0m",
      "\u001b[0;31mNameError\u001b[0m                                 Traceback (most recent call last)",
      "\u001b[0;32m/tmp/ipykernel_6443/3049099716.py\u001b[0m in \u001b[0;36m<module>\u001b[0;34m\u001b[0m\n\u001b[1;32m      1\u001b[0m \u001b[0;31m#Initialize the node. Topics: /vel and /cmd_vel\u001b[0m\u001b[0;34m\u001b[0m\u001b[0;34m\u001b[0m\u001b[0;34m\u001b[0m\u001b[0m\n\u001b[1;32m      2\u001b[0m \u001b[0mrospy\u001b[0m\u001b[0;34m.\u001b[0m\u001b[0minit_node\u001b[0m\u001b[0;34m(\u001b[0m\u001b[0;34m'user_interface'\u001b[0m\u001b[0;34m)\u001b[0m\u001b[0;34m\u001b[0m\u001b[0;34m\u001b[0m\u001b[0m\n\u001b[0;32m----> 3\u001b[0;31m \u001b[0mui_client\u001b[0m\u001b[0;34m=\u001b[0m\u001b[0mrospy\u001b[0m\u001b[0;34m.\u001b[0m\u001b[0mServiceProxy\u001b[0m\u001b[0;34m(\u001b[0m\u001b[0;34m'/user_interface'\u001b[0m\u001b[0;34m,\u001b[0m\u001b[0mCommand\u001b[0m\u001b[0;34m)\u001b[0m\u001b[0;34m\u001b[0m\u001b[0;34m\u001b[0m\u001b[0m\n\u001b[0m\u001b[1;32m      4\u001b[0m \u001b[0mpub_vel\u001b[0m\u001b[0;34m=\u001b[0m\u001b[0mrospy\u001b[0m\u001b[0;34m.\u001b[0m\u001b[0mPublisher\u001b[0m\u001b[0;34m(\u001b[0m\u001b[0;34m'/vel'\u001b[0m\u001b[0;34m,\u001b[0m \u001b[0mTwist\u001b[0m\u001b[0;34m,\u001b[0m \u001b[0mqueue_size\u001b[0m\u001b[0;34m=\u001b[0m\u001b[0;36m1\u001b[0m\u001b[0;34m)\u001b[0m\u001b[0;34m\u001b[0m\u001b[0;34m\u001b[0m\u001b[0m\n\u001b[1;32m      5\u001b[0m \u001b[0mpub_cmd\u001b[0m\u001b[0;34m=\u001b[0m\u001b[0mrospy\u001b[0m\u001b[0;34m.\u001b[0m\u001b[0mPublisher\u001b[0m\u001b[0;34m(\u001b[0m\u001b[0;34m'/cmd_vel'\u001b[0m\u001b[0;34m,\u001b[0m \u001b[0mTwist\u001b[0m\u001b[0;34m,\u001b[0m \u001b[0mqueue_size\u001b[0m\u001b[0;34m=\u001b[0m\u001b[0;36m1\u001b[0m\u001b[0;34m)\u001b[0m\u001b[0;34m\u001b[0m\u001b[0;34m\u001b[0m\u001b[0m\n",
      "\u001b[0;31mNameError\u001b[0m: name 'Command' is not defined"
     ]
    }
   ],
   "source": [
    "#Initialize the node. Topics: /vel and /cmd_vel\n",
    "rospy.init_node('user_interface')\n",
    "ui_client=rospy.ServiceProxy('/user_interface',Command)\n",
    "pub_vel=rospy.Publisher('/vel', Twist, queue_size=1)\n",
    "pub_cmd=rospy.Publisher('/cmd_vel', Twist, queue_size=1)\n",
    "\n",
    "\n",
    "\n",
    "# robot behaviour\n",
    "go_rand= True # wheater the robot is going random or not\n",
    "vel=Twist() # the value of linear and angular velocities\n",
    "cmd=Twist() # the command velocities I want to obtain\n",
    "\n",
    "# linear and angualr velocity (requested and actual)\n",
    "VelLin_s=0 \n",
    "VelLin_a=0 \n",
    "VelAng_s=0 \n",
    "VelAng_a=0 \n",
    "vel1_1=[] # array to save the linear velocities requested \n",
    "vel1_2=[] # array to save the actual linear velocities\n",
    "vel2_1=[] # array to save the angular velocities requested\n",
    "vel2_2=[] # array to save the actual angular velocities\n",
    "\n",
    "#Time\n",
    "initial_time=time.time() \n",
    "timeNow=0 \n",
    "time1=[]  # array to save the times\n",
    "time_to_reach=[] #array to save the times to reach a goal\n",
    "\n",
    "x_data=[] # array to save the x coordinate of the robot\n",
    "y_data=[] # array to save the y coordinate of the robot\n",
    "dx=0.0 #x direction of the orientation\n",
    "dy=1.0 #y direction of the orientation\n",
    "\n",
    "stats = [0,0] #array to save the number of reached and cancelled goal\n",
    "reached=0 #number of reached goals\n",
    "cancelled=0 # number of cancelled goals"
   ]
  },
  {
   "cell_type": "markdown",
   "id": "22cfba1c",
   "metadata": {},
   "source": [
    "# Buttons"
   ]
  },
  {
   "cell_type": "markdown",
   "id": "50c77733",
   "metadata": {},
   "source": [
    "Directly controlling the robot movements by using 5 Buttons: forward, backward, turn right, turn left, and stop, In addition, 2 more buttons to start or stop the random goal behavior of the robot"
   ]
  },
  {
   "cell_type": "code",
   "execution_count": 5,
   "id": "30190bfe",
   "metadata": {},
   "outputs": [],
   "source": [
    "# go straight forward\n",
    "b1 = widgets.Button(description='up',\n",
    "                    layout=widgets.Layout(width='auto', grid_area='up'),\n",
    "                    style=widgets.ButtonStyle(button_color='yellow')\n",
    "                   )\n",
    "\n",
    "# go straight backwards\n",
    "b2 = widgets.Button(description='down',\n",
    "                    layout=widgets.Layout(width='auto', grid_area='down'),\n",
    "                    style=widgets.ButtonStyle(button_color='yellow')\n",
    "                   )\n",
    "\n",
    "# turn right\n",
    "b3 = widgets.Button(description='right',\n",
    "                    layout=widgets.Layout(width='auto', grid_area='right'),\n",
    "                    style=widgets.ButtonStyle(button_color='yellow')\n",
    "                   )\n",
    "# turn left\n",
    "b4= widgets.Button(description='left',\n",
    "                    layout=widgets.Layout(width='auto', grid_area='left'),\n",
    "                    style=widgets.ButtonStyle(button_color='yellow')\n",
    "                  )\n",
    "\n",
    "# stop the robot\n",
    "b5 = widgets.Button(description='stop',\n",
    "                    layout=widgets.Layout(width='auto', grid_area='stop'),\n",
    "                    style=widgets.ButtonStyle(button_color='orange')\n",
    "                   )\n",
    "\n",
    "# start random goal\n",
    "b6 = widgets.Button(description='Start rand', \n",
    "                layout=widgets.Layout(widht='auto',grid_area='b6'),\n",
    "                style=widgets.ButtonStyle(button_color='green')   \n",
    "                )\n",
    "\n",
    "# stop random goal\n",
    "b7 = widgets.Button(description='Stop rand',\n",
    "                    layout=widgets.Layout(width='auto', grid_area='b7'),\n",
    "                    style=widgets.ButtonStyle(button_color='red')\n",
    "                    )"
   ]
  },
  {
   "cell_type": "markdown",
   "id": "fd786446",
   "metadata": {},
   "source": [
    "# Functions associated to the buttons"
   ]
  },
  {
   "cell_type": "code",
   "execution_count": 6,
   "id": "31f6a60f",
   "metadata": {},
   "outputs": [
    {
     "ename": "NameError",
     "evalue": "name 'up' is not defined",
     "output_type": "error",
     "traceback": [
      "\u001b[0;31m---------------------------------------------------------------------------\u001b[0m",
      "\u001b[0;31mNameError\u001b[0m                                 Traceback (most recent call last)",
      "\u001b[0;32m/tmp/ipykernel_6443/1604352852.py\u001b[0m in \u001b[0;36m<module>\u001b[0;34m\u001b[0m\n\u001b[0;32m----> 1\u001b[0;31m \u001b[0mb1\u001b[0m\u001b[0;34m.\u001b[0m\u001b[0mon_click\u001b[0m\u001b[0;34m(\u001b[0m\u001b[0mup\u001b[0m\u001b[0;34m)\u001b[0m\u001b[0;34m\u001b[0m\u001b[0;34m\u001b[0m\u001b[0m\n\u001b[0m\u001b[1;32m      2\u001b[0m \u001b[0mb2\u001b[0m\u001b[0;34m.\u001b[0m\u001b[0mon_click\u001b[0m\u001b[0;34m(\u001b[0m\u001b[0mdown\u001b[0m\u001b[0;34m)\u001b[0m\u001b[0;34m\u001b[0m\u001b[0;34m\u001b[0m\u001b[0m\n\u001b[1;32m      3\u001b[0m \u001b[0mb3\u001b[0m\u001b[0;34m.\u001b[0m\u001b[0mon_click\u001b[0m\u001b[0;34m(\u001b[0m\u001b[0mright\u001b[0m\u001b[0;34m)\u001b[0m\u001b[0;34m\u001b[0m\u001b[0;34m\u001b[0m\u001b[0m\n\u001b[1;32m      4\u001b[0m \u001b[0mb4\u001b[0m\u001b[0;34m.\u001b[0m\u001b[0mon_click\u001b[0m\u001b[0;34m(\u001b[0m\u001b[0mleft\u001b[0m\u001b[0;34m)\u001b[0m\u001b[0;34m\u001b[0m\u001b[0;34m\u001b[0m\u001b[0m\n\u001b[1;32m      5\u001b[0m \u001b[0mb5\u001b[0m\u001b[0;34m.\u001b[0m\u001b[0mon_click\u001b[0m\u001b[0;34m(\u001b[0m\u001b[0mstop_cmd\u001b[0m\u001b[0;34m)\u001b[0m\u001b[0;34m\u001b[0m\u001b[0;34m\u001b[0m\u001b[0m\n",
      "\u001b[0;31mNameError\u001b[0m: name 'up' is not defined"
     ]
    }
   ],
   "source": [
    "b1.on_click(up)\n",
    "b2.on_click(down)\n",
    "b3.on_click(right)\n",
    "b4.on_click(left)\n",
    "b5.on_click(stop_cmd)\n",
    "b6.on_click(start_rand)\n",
    "b7.on_click(stop_rand)"
   ]
  },
  {
   "cell_type": "markdown",
   "id": "7b579060",
   "metadata": {},
   "source": [
    "# Buttons and Sliders"
   ]
  },
  {
   "cell_type": "code",
   "execution_count": 8,
   "id": "6116a535",
   "metadata": {},
   "outputs": [
    {
     "name": "stdout",
     "output_type": "stream",
     "text": [
      "Linear Velocity\n"
     ]
    },
    {
     "ename": "NameError",
     "evalue": "name 'interact' is not defined",
     "output_type": "error",
     "traceback": [
      "\u001b[0;31m---------------------------------------------------------------------------\u001b[0m",
      "\u001b[0;31mNameError\u001b[0m                                 Traceback (most recent call last)",
      "\u001b[0;32m/tmp/ipykernel_6443/1581910357.py\u001b[0m in \u001b[0;36m<module>\u001b[0;34m\u001b[0m\n\u001b[1;32m      1\u001b[0m \u001b[0mprint\u001b[0m\u001b[0;34m(\u001b[0m\u001b[0;34m\"Linear Velocity\"\u001b[0m\u001b[0;34m)\u001b[0m\u001b[0;34m\u001b[0m\u001b[0;34m\u001b[0m\u001b[0m\n\u001b[1;32m      2\u001b[0m \u001b[0;31m# slider for the linear velocity\u001b[0m\u001b[0;34m\u001b[0m\u001b[0;34m\u001b[0m\u001b[0;34m\u001b[0m\u001b[0m\n\u001b[0;32m----> 3\u001b[0;31m interact (setvellin,\n\u001b[0m\u001b[1;32m      4\u001b[0m         x=widgets.FloatSlider(min=0.0, max=1, step=0.01, value=0.3))\n\u001b[1;32m      5\u001b[0m \u001b[0;34m\u001b[0m\u001b[0m\n",
      "\u001b[0;31mNameError\u001b[0m: name 'interact' is not defined"
     ]
    }
   ],
   "source": [
    "\n",
    "print(\"Linear Velocity\")\n",
    "# slider for the linear velocity\n",
    "interact (setvellin,\n",
    "        x=widgets.FloatSlider(min=0.0, max=1, step=0.01, value=0.3))\n",
    "\n",
    "print(\"Angular Velocity\")\n",
    "#slider for the angular velocity\n",
    "interact(setvelang,\n",
    "        x=widgets.FloatSlider(min=0.0, max=1, step=0.01, value=0.3))\n",
    "\n",
    "# box to set all of the buttons\n",
    "widgets.GridBox(children=[b1, b2, b3, b4, b5, b6, b7],\n",
    "                layout=widgets.Layout(width='80%',grid_template_rows='auto auto auto',\n",
    "                grid_template_columns='16% 16% 16% 16% 16% 16% ',\n",
    "                grid_template_areas='''\". . . b7  . .\"\"b1 b2 . . up . \"\" . .  . left down right \"''')\n",
    "               )"
   ]
  },
  {
   "cell_type": "markdown",
   "id": "fc785051",
   "metadata": {},
   "source": [
    "# Subscribers"
   ]
  },
  {
   "cell_type": "code",
   "execution_count": 9,
   "id": "832a5407",
   "metadata": {},
   "outputs": [
    {
     "ename": "NameError",
     "evalue": "name 'Twist' is not defined",
     "output_type": "error",
     "traceback": [
      "\u001b[0;31m---------------------------------------------------------------------------\u001b[0m",
      "\u001b[0;31mNameError\u001b[0m                                 Traceback (most recent call last)",
      "\u001b[0;32m/tmp/ipykernel_6443/3311757283.py\u001b[0m in \u001b[0;36m<module>\u001b[0;34m\u001b[0m\n\u001b[1;32m     96\u001b[0m \u001b[0;34m\u001b[0m\u001b[0m\n\u001b[1;32m     97\u001b[0m \u001b[0;31m# declaring all of the subscribers\u001b[0m\u001b[0;34m\u001b[0m\u001b[0;34m\u001b[0m\u001b[0;34m\u001b[0m\u001b[0m\n\u001b[0;32m---> 98\u001b[0;31m \u001b[0mvel_sub\u001b[0m\u001b[0;34m=\u001b[0m \u001b[0mrospy\u001b[0m\u001b[0;34m.\u001b[0m\u001b[0mSubscriber\u001b[0m\u001b[0;34m(\u001b[0m\u001b[0;34m'/cmd_vel'\u001b[0m\u001b[0;34m,\u001b[0m\u001b[0mTwist\u001b[0m\u001b[0;34m,\u001b[0m \u001b[0mvel_callback\u001b[0m\u001b[0;34m)\u001b[0m\u001b[0;34m\u001b[0m\u001b[0;34m\u001b[0m\u001b[0m\n\u001b[0m\u001b[1;32m     99\u001b[0m \u001b[0msub\u001b[0m\u001b[0;34m=\u001b[0m \u001b[0mrospy\u001b[0m\u001b[0;34m.\u001b[0m\u001b[0mSubscriber\u001b[0m\u001b[0;34m(\u001b[0m\u001b[0;34m'/odom'\u001b[0m\u001b[0;34m,\u001b[0m\u001b[0mOdometry\u001b[0m\u001b[0;34m,\u001b[0m \u001b[0modom_callback\u001b[0m\u001b[0;34m)\u001b[0m\u001b[0;34m\u001b[0m\u001b[0;34m\u001b[0m\u001b[0m\n\u001b[1;32m    100\u001b[0m \u001b[0mreach_sub\u001b[0m\u001b[0;34m=\u001b[0m \u001b[0mrospy\u001b[0m\u001b[0;34m.\u001b[0m\u001b[0mSubscriber\u001b[0m\u001b[0;34m(\u001b[0m\u001b[0;34m'/reach'\u001b[0m\u001b[0;34m,\u001b[0m\u001b[0mBool\u001b[0m\u001b[0;34m,\u001b[0m \u001b[0mreach_callback\u001b[0m\u001b[0;34m)\u001b[0m\u001b[0;34m\u001b[0m\u001b[0;34m\u001b[0m\u001b[0m\n",
      "\u001b[0;31mNameError\u001b[0m: name 'Twist' is not defined"
     ]
    }
   ],
   "source": [
    "# this function transforms an angle in the interval [-pi, pi]\n",
    "def normalize_angle(angle):\n",
    "    if(math.fabs(angle) > math.pi):\n",
    "        angle = angle - (2 * math.pi * angle) / (math.fabs(angle))\n",
    "    return angle\n",
    "\n",
    "#Convert a quaternion into euler angles (roll, pitch, yaw)\n",
    "def euler_from_quaternion(x, y, z, w):\n",
    "        #roll is rotation around x in radians (counterclockwise)\n",
    "        #pitch is rotation around y in radians (counterclockwise)\n",
    "        #yaw is rotation around z in radians (counterclockwise)\n",
    "        t0 = +2.0 * (w * x + y * z)\n",
    "        t1 = +1.0 - 2.0 * (x * x + y * y)\n",
    "        roll_x = math.atan2(t0, t1)\n",
    "     \n",
    "        t2 = +2.0 * (w * y - z * x)\n",
    "        t2 = +1.0 if t2 > +1.0 else t2\n",
    "        t2 = -1.0 if t2 < -1.0 else t2\n",
    "        pitch_y = math.asin(t2)\n",
    "     \n",
    "        t3 = +2.0 * (w * z + x * y)\n",
    "        t4 = +1.0 - 2.0 * (y * y + z * z)\n",
    "        yaw_z = math.atan2(t3, t4)\n",
    "     \n",
    "        return roll_x, pitch_y, yaw_z # in radians\n",
    "\n",
    "# called when new data are published on the topic /odom\n",
    "def odom_callback(msg):\n",
    "    global timeNow, vel1_1, vel2_1, vel1_2, vel2_2, time1,dx,dy\n",
    "    # retrieve how much time has passed between the init of the program\n",
    "    timeNow= time.time()-initial_time\n",
    "    # If I saved more than 500 data I delete the first one, for all arrays\n",
    "    #I want arrays of maxium 500 elements to have a faster program\n",
    "    if len(time1)>500:\n",
    "        time1.pop(0)\n",
    "        x_data.pop(0)\n",
    "        y_data.pop(0)\n",
    "        vel1_1.pop(0)\n",
    "        vel1_2.pop(0)\n",
    "        vel2_1.pop(0)\n",
    "        vel2_2.pop(0)\n",
    "    #add the new time \n",
    "    time1.append(timeNow)\n",
    "    # add the new x position\n",
    "    x_data.append(msg.pose.pose.position.x)\n",
    "    # add the new y position\n",
    "    y_data.append(msg.pose.pose.position.y)\n",
    "    # add the new linear velocity actual\n",
    "    vel1_2.append(msg.twist.twist.linear.x)\n",
    "    # add the new angular velocity actual\n",
    "    vel2_2.append(msg.twist.twist.angular.z)\n",
    "    # add the new requested linear velocity\n",
    "    vel1_1.append(VelLin_s)\n",
    "    # add the new requested angular velocity\n",
    "    vel2_1.append(VelAng_s)\n",
    "    # Reading the quaternion to obtain the orientation of the robot\n",
    "    quaternion = (\n",
    "        msg.pose.pose.orientation.x,\n",
    "        msg.pose.pose.orientation.y,\n",
    "        msg.pose.pose.orientation.z,\n",
    "        msg.pose.pose.orientation.w)\n",
    "    # converting in Euler angles\n",
    "    euler = euler_from_quaternion(quaternion[0],quaternion[1],quaternion[2],quaternion[3])\n",
    "    # obtaining the angle of rotation about the z axis, it's positive value is counterclock-wise\n",
    "    yaw_ = euler[2]\n",
    "    # normalizing the yaw angle\n",
    "    normalized_yaw=normalize_angle(yaw_)\n",
    "    #obtaining the x and y components of an array representing orientation\n",
    "    dx=math.cos(normalized_yaw)\n",
    "    dy=math.sin(normalized_yaw)\n",
    "    \n",
    "# called when new data are published on the topic /cmd_vel\n",
    "def vel_callback(msg):\n",
    "    global VelLin_s, VelAng_s\n",
    "    # saving the values of the requested velocities in global variables\n",
    "    VelLin_s=msg.linear.x\n",
    "    VelAng_s=msg.angular.z\n",
    "    \n",
    "# called when new data are published on the topic /reach\n",
    "def reach_callback(msg):\n",
    "    global reached,cancelled,stats\n",
    "    # If the message is True the goal was reached and I need to add 1 to the global variables reached\n",
    "    if msg.data:\n",
    "        reached+=1\n",
    "    # If the message is Flse I need to add 1 to the cancelled variable\n",
    "    else: \n",
    "        cancelled+=1\n",
    "    # updating the vector storing the data    \n",
    "    stats=[reached, cancelled]\n",
    "\n",
    "# called when new data are published on the topic /time   \n",
    "def time_callback(msg):\n",
    "    global time_to_reach\n",
    "    # I add the time to reach the goal to the vector storing those information\n",
    "    time_to_reach.append(msg.data)    \n",
    "\n",
    "# declaring all of the subscribers    \n",
    "vel_sub= rospy.Subscriber('/cmd_vel',Twist, vel_callback)    \n",
    "sub= rospy.Subscriber('/odom',Odometry, odom_callback)\n",
    "reach_sub= rospy.Subscriber('/reach',Bool, reach_callback) \n",
    "time_sub= rospy.Subscriber('/time',Float32, time_callback)"
   ]
  },
  {
   "cell_type": "markdown",
   "id": "915364bf",
   "metadata": {},
   "source": [
    "# velocity"
   ]
  },
  {
   "cell_type": "code",
   "execution_count": 11,
   "id": "d2cefa69",
   "metadata": {},
   "outputs": [
    {
     "name": "stderr",
     "output_type": "stream",
     "text": [
      "kernel_6443/4294782291.py\", line 39, in animate1\n",
      "    ax1.set_xlim((timeNow-5,timeNow+5))\n",
      "NameError: name 'timeNow' is not defined\n",
      "ERROR:tornado.application:Exception in callback <bound method TimerBase._on_timer of <matplotlib.backends.backend_webagg_core.TimerTornado object at 0x7fedb0c5a340>>\n",
      "Traceback (most recent call last):\n",
      "  File \"/usr/local/lib/python3.8/dist-packages/tornado/ioloop.py\", line 905, in _run\n",
      "    return self.callback()\n",
      "  File \"/usr/lib/python3/dist-packages/matplotlib/backend_bases.py\", line 1194, in _on_timer\n",
      "    ret = func(*args, **kwargs)\n",
      "  File \"/usr/lib/python3/dist-packages/matplotlib/animation.py\", line 1447, in _step\n",
      "    still_going = Animation._step(self, *args)\n",
      "  File \"/usr/lib/python3/dist-packages/matplotlib/animation.py\", line 1173, in _step\n",
      "    self._draw_next_frame(framedata, self._blit)\n",
      "  File \"/usr/lib/python3/dist-packages/matplotlib/animation.py\", line 1192, in _draw_next_frame\n",
      "    self._draw_frame(framedata)\n",
      "  File \"/usr/lib/python3/dist-packages/matplotlib/animation.py\", line 1755, in _draw_frame\n",
      "    self._drawn_artists = self._func(framedata, *self._args)\n",
      "  File \"/tmp/ipykernel_6443/4294782291.py\", line 49, in animate2\n",
      "    ax2.set_xlim((timeNow-5,timeNow+5))\n",
      "NameError: name 'timeNow' is not defined\n"
     ]
    },
    {
     "data": {
      "application/vnd.jupyter.widget-view+json": {
       "model_id": "7ea22b00848d41479f580cc1c5910d6f",
       "version_major": 2,
       "version_minor": 0
      },
      "text/plain": [
       "Canvas(toolbar=Toolbar(toolitems=[('Home', 'Reset original view', 'home', 'home'), ('Back', 'Back to previous …"
      ]
     },
     "metadata": {},
     "output_type": "display_data"
    },
    {
     "data": {
      "application/vnd.jupyter.widget-view+json": {
       "model_id": "186b790515ea41fd8109c589d8523de2",
       "version_major": 2,
       "version_minor": 0
      },
      "text/plain": [
       "Canvas(toolbar=Toolbar(toolitems=[('Home', 'Reset original view', 'home', 'home'), ('Back', 'Back to previous …"
      ]
     },
     "metadata": {},
     "output_type": "display_data"
    }
   ],
   "source": [
    "# setting the first plot\n",
    "fig1,ax1=plt.subplots()\n",
    "ax1.set_ylim((-2,2))\n",
    "ax1.set_xlim((0,10))\n",
    "lobj2 =ax1.plot([],[],lw=2, color='red',label='linear velocity actual')[0]\n",
    "lobj1 =ax1.plot([],[], lw=2, color='green',label='linear velocity set')[0]\n",
    "line1,=ax1.plot([],[], lw=2)\n",
    "ax1.legend()\n",
    "ax1.set_title(\"Linear Velocity\")\n",
    "ax1.set_xlabel('time')\n",
    "lines1=[]\n",
    "lines1.append(lobj1)\n",
    "lines1.append(lobj2)\n",
    "\n",
    "# setting the fsecond plot\n",
    "fig2,ax2=plt.subplots()\n",
    "ax2.set_ylim((-2,2))\n",
    "ax2.set_xlim((0,10))\n",
    "lobj2 =ax2.plot([],[],lw=2, color='red',label='angular velocity actual')[0]\n",
    "lobj1 =ax2.plot([],[], lw=2, color='green',label='angular velocity set')[0]\n",
    "line2,=ax2.plot([],[], lw=2)\n",
    "ax2.legend()\n",
    "ax2.set_title(\"Angular Velocity\")\n",
    "ax2.set_xlabel('time')\n",
    "lines2=[]\n",
    "lines2.append(lobj1)\n",
    "lines2.append(lobj2)\n",
    "\n",
    "# function called to initialize the plot\n",
    "def init1():\n",
    "    line1.set_data([],[])\n",
    "\n",
    "# function called to initialize the plot    \n",
    "def init2():\n",
    "    line2.set_data([],[])\n",
    "\n",
    "# function called to update periodically the plot\n",
    "def animate1(i):\n",
    "    ax1.set_xlim((timeNow-5,timeNow+5))\n",
    "    xlist = [time1, time1]\n",
    "    ylist = [vel1_1, vel1_2]\n",
    "    #for index in range(0,1):\n",
    "    for lnum1,line1 in enumerate(lines1):\n",
    "        line1.set_data(xlist[lnum1], ylist[lnum1]) # set data for each line separately.\n",
    "    return (lines1)\n",
    "\n",
    "# function called to update periodically the plot\n",
    "def animate2(i):\n",
    "    ax2.set_xlim((timeNow-5,timeNow+5))\n",
    "    xlist = [time1, time1]\n",
    "    ylist = [vel2_1, vel2_2]\n",
    "    #for index in range(0,1):\n",
    "    for lnum2,line2 in enumerate(lines2):\n",
    "        line2.set_data(xlist[lnum2], ylist[lnum2]) # set data for each line separately.\n",
    "    return (lines2)\n",
    "\n",
    "ani1=animation.FuncAnimation(fig1, animate1, init_func=init1, frames=100, interval=100, blit=True)\n",
    "ani2=animation.FuncAnimation(fig2, animate2, init_func=init2, frames=100, interval=100, blit=True)"
   ]
  },
  {
   "cell_type": "markdown",
   "id": "1cca5571",
   "metadata": {},
   "source": [
    "# Graphs for Velocity, Position, Time, and Reaching or Cancelled Goals"
   ]
  },
  {
   "cell_type": "code",
   "execution_count": 12,
   "id": "38367112",
   "metadata": {},
   "outputs": [
    {
     "data": {
      "application/vnd.jupyter.widget-view+json": {
       "model_id": "b73e844e63f145ba9b04bfe8317bdf5f",
       "version_major": 2,
       "version_minor": 0
      },
      "text/plain": [
       "Canvas(toolbar=Toolbar(toolitems=[('Home', 'Reset original view', 'home', 'home'), ('Back', 'Back to previous …"
      ]
     },
     "metadata": {},
     "output_type": "display_data"
    },
    {
     "data": {
      "application/vnd.jupyter.widget-view+json": {
       "model_id": "e6723238162c443dab2d13d8b8ee1e87",
       "version_major": 2,
       "version_minor": 0
      },
      "text/plain": [
       "Canvas(toolbar=Toolbar(toolitems=[('Home', 'Reset original view', 'home', 'home'), ('Back', 'Back to previous …"
      ]
     },
     "metadata": {},
     "output_type": "display_data"
    }
   ],
   "source": [
    "# For velocities:\n",
    "\n",
    "# setting the first plot\n",
    "fig1,ax1=plt.subplots()\n",
    "ax1.set_ylim((-2,2))\n",
    "ax1.set_xlim((0,10))\n",
    "lobj2 =ax1.plot([],[],lw=2, color='red',label='linear velocity actual')[0]\n",
    "lobj1 =ax1.plot([],[], lw=2, color='green',label='linear velocity set')[0]\n",
    "line1,=ax1.plot([],[], lw=2)\n",
    "ax1.legend()\n",
    "ax1.set_title(\"Linear Velocity\")\n",
    "ax1.set_xlabel('time')\n",
    "lines1=[]\n",
    "lines1.append(lobj1)\n",
    "lines1.append(lobj2)\n",
    "\n",
    "# setting the fsecond plot\n",
    "fig2,ax2=plt.subplots()\n",
    "ax2.set_ylim((-2,2))\n",
    "ax2.set_xlim((0,10))\n",
    "lobj2 =ax2.plot([],[],lw=2, color='red',label='angular velocity actual')[0]\n",
    "lobj1 =ax2.plot([],[], lw=2, color='green',label='angular velocity set')[0]\n",
    "line2,=ax2.plot([],[], lw=2)\n",
    "ax2.legend()\n",
    "ax2.set_title(\"Angular Velocity\")\n",
    "ax2.set_xlabel('time')\n",
    "lines2=[]\n",
    "lines2.append(lobj1)\n",
    "lines2.append(lobj2)\n",
    "\n",
    "# function called to initialize the plot\n",
    "def init1():\n",
    "    line1.set_data([],[])\n",
    "\n",
    "# function called to initialize the plot    \n",
    "def init2():\n",
    "    line2.set_data([],[])\n",
    "\n",
    "# function called to update periodically the plot\n",
    "def animate1(i):\n",
    "    ax1.set_xlim((timeNow-5,timeNow+5))\n",
    "    xlist = [time1, time1]\n",
    "    ylist = [vel1_1, vel1_2]\n",
    "    #for index in range(0,1):\n",
    "    for lnum1,line1 in enumerate(lines1):\n",
    "        line1.set_data(xlist[lnum1], ylist[lnum1]) # set data for each line separately.\n",
    "    return (lines1)\n",
    "\n",
    "# function called to update periodically the plot\n",
    "def animate2(i):\n",
    "    ax2.set_xlim((timeNow-5,timeNow+5))\n",
    "    xlist = [time1, time1]\n",
    "    ylist = [vel2_1, vel2_2]\n",
    "    #for index in range(0,1):\n",
    "    for lnum2,line2 in enumerate(lines2):\n",
    "        line2.set_data(xlist[lnum2], ylist[lnum2]) # set data for each line separately.\n",
    "    return (lines2)\n",
    "\n",
    "ani1=animation.FuncAnimation(fig1, animate1, init_func=init1, frames=100, interval=100, blit=True)\n",
    "ani2=animation.FuncAnimation(fig2, animate2, init_func=init2, frames=100, interval=100, blit=True)"
   ]
  },
  {
   "cell_type": "code",
   "execution_count": 13,
   "id": "9c9831d0",
   "metadata": {},
   "outputs": [
    {
     "name": "stderr",
     "output_type": "stream",
     "text": [
      "kernel_6443/4294782291.py\", line 39, in animate1\n",
      "    ax1.set_xlim((timeNow-5,timeNow+5))\n",
      "NameError: name 'timeNow' is not defined\n",
      "ERROR:tornado.application:Exception in callback <bound method TimerBase._on_timer of <matplotlib.backends.backend_webagg_core.TimerTornado object at 0x7fedb0a82f70>>\n",
      "Traceback (most recent call last):\n",
      "  File \"/usr/local/lib/python3.8/dist-packages/tornado/ioloop.py\", line 905, in _run\n",
      "    return self.callback()\n",
      "  File \"/usr/lib/python3/dist-packages/matplotlib/backend_bases.py\", line 1194, in _on_timer\n",
      "    ret = func(*args, **kwargs)\n",
      "  File \"/usr/lib/python3/dist-packages/matplotlib/animation.py\", line 1447, in _step\n",
      "    still_going = Animation._step(self, *args)\n",
      "  File \"/usr/lib/python3/dist-packages/matplotlib/animation.py\", line 1173, in _step\n",
      "    self._draw_next_frame(framedata, self._blit)\n",
      "  File \"/usr/lib/python3/dist-packages/matplotlib/animation.py\", line 1192, in _draw_next_frame\n",
      "    self._draw_frame(framedata)\n",
      "  File \"/usr/lib/python3/dist-packages/matplotlib/animation.py\", line 1755, in _draw_frame\n",
      "    self._drawn_artists = self._func(framedata, *self._args)\n",
      "  File \"/tmp/ipykernel_6443/4294782291.py\", line 49, in animate2\n",
      "    ax2.set_xlim((timeNow-5,timeNow+5))\n",
      "NameError: name 'timeNow' is not defined\n"
     ]
    },
    {
     "data": {
      "application/vnd.jupyter.widget-view+json": {
       "model_id": "41c338415e154cab9f62e8e41ea0ede2",
       "version_major": 2,
       "version_minor": 0
      },
      "text/plain": [
       "Canvas(toolbar=Toolbar(toolitems=[('Home', 'Reset original view', 'home', 'home'), ('Back', 'Back to previous …"
      ]
     },
     "metadata": {},
     "output_type": "display_data"
    },
    {
     "data": {
      "application/vnd.jupyter.widget-view+json": {
       "model_id": "2d9d8725acfa47acb6b14e49532d0193",
       "version_major": 2,
       "version_minor": 0
      },
      "text/plain": [
       "Canvas(toolbar=Toolbar(toolitems=[('Home', 'Reset original view', 'home', 'home'), ('Back', 'Back to previous …"
      ]
     },
     "metadata": {},
     "output_type": "display_data"
    },
    {
     "ename": "NameError",
     "evalue": "name 'dx' is not defined",
     "output_type": "error",
     "traceback": [
      "\u001b[0;31m---------------------------------------------------------------------------\u001b[0m",
      "\u001b[0;31mNameError\u001b[0m                                 Traceback (most recent call last)",
      "\u001b[0;32m/tmp/ipykernel_6443/576521478.py\u001b[0m in \u001b[0;36m<module>\u001b[0;34m\u001b[0m\n\u001b[1;32m      8\u001b[0m \u001b[0max3\u001b[0m\u001b[0;34m.\u001b[0m\u001b[0mlegend\u001b[0m\u001b[0;34m(\u001b[0m\u001b[0;34m)\u001b[0m\u001b[0;34m\u001b[0m\u001b[0;34m\u001b[0m\u001b[0m\n\u001b[1;32m      9\u001b[0m \u001b[0max3\u001b[0m\u001b[0;34m.\u001b[0m\u001b[0mset_title\u001b[0m\u001b[0;34m(\u001b[0m\u001b[0;34m\"Position\"\u001b[0m\u001b[0;34m)\u001b[0m\u001b[0;34m\u001b[0m\u001b[0;34m\u001b[0m\u001b[0m\n\u001b[0;32m---> 10\u001b[0;31m \u001b[0max4\u001b[0m\u001b[0;34m.\u001b[0m\u001b[0mquiver\u001b[0m\u001b[0;34m(\u001b[0m\u001b[0;36m0\u001b[0m\u001b[0;34m,\u001b[0m\u001b[0;36m0\u001b[0m\u001b[0;34m,\u001b[0m\u001b[0mdx\u001b[0m\u001b[0;34m,\u001b[0m\u001b[0mdy\u001b[0m\u001b[0;34m,\u001b[0m\u001b[0mlabel\u001b[0m\u001b[0;34m=\u001b[0m\u001b[0;34m'orientation'\u001b[0m\u001b[0;34m)\u001b[0m\u001b[0;34m\u001b[0m\u001b[0;34m\u001b[0m\u001b[0m\n\u001b[0m\u001b[1;32m     11\u001b[0m \u001b[0max4\u001b[0m\u001b[0;34m.\u001b[0m\u001b[0mlegend\u001b[0m\u001b[0;34m(\u001b[0m\u001b[0;34m)\u001b[0m\u001b[0;34m\u001b[0m\u001b[0;34m\u001b[0m\u001b[0m\n\u001b[1;32m     12\u001b[0m \u001b[0max4\u001b[0m\u001b[0;34m.\u001b[0m\u001b[0mset_title\u001b[0m\u001b[0;34m(\u001b[0m\u001b[0;34m\"Orientation\"\u001b[0m\u001b[0;34m)\u001b[0m\u001b[0;34m\u001b[0m\u001b[0;34m\u001b[0m\u001b[0m\n",
      "\u001b[0;31mNameError\u001b[0m: name 'dx' is not defined"
     ]
    }
   ],
   "source": [
    "# For Position and Orientation of the robot:\n",
    "\n",
    "fig3,ax3=plt.subplots()\n",
    "fig4,ax4=plt.subplots()\n",
    "ax3.set_xlim((-10,10))\n",
    "ax3.set_ylim((-10,10))\n",
    "line3,=ax3.plot([],[], lw=2, color='red', label='position')\n",
    "ax3.legend()\n",
    "ax3.set_title(\"Position\")\n",
    "ax4.quiver(0,0,dx,dy,label='orientation')\n",
    "ax4.legend()\n",
    "ax4.set_title(\"Orientation\")\n",
    "\n",
    "# function called to initialize the plot\n",
    "def init3():\n",
    "    line3.set_data([],[])\n",
    "    \n",
    "# function called to initialize the plot\n",
    "def init4():\n",
    "    ax4.quiver(0,0,dx,dy,label='orientation')\n",
    "    \n",
    "# function called to update periodically the plot \n",
    "def animate3(i):\n",
    "    global x_data, y_data\n",
    "    line3.set_data(x_data, y_data)\n",
    "    return (line3,)\n",
    "\n",
    "# function called to update periodically the plot \n",
    "def animate6(i):\n",
    "    ax4.clear()\n",
    "    ax4.quiver(0,0,dx,dy,label='orientation')\n",
    "    ax4.legend()\n",
    "    ax4.set_title(\"Orientation\")\n",
    "    return (line4,)\n",
    "\n",
    "ani3=animation.FuncAnimation(fig3, animate3, init_func=init3, frames=100, interval=100, blit=True)\n",
    "ani4=animation.FuncAnimation(fig4, animate6, frames=1, interval=100, blit=True)"
   ]
  },
  {
   "cell_type": "code",
   "execution_count": 14,
   "id": "35f2e892",
   "metadata": {},
   "outputs": [
    {
     "data": {
      "application/vnd.jupyter.widget-view+json": {
       "model_id": "0d04a404c13548158c240bef59662a1b",
       "version_major": 2,
       "version_minor": 0
      },
      "text/plain": [
       "Canvas(toolbar=Toolbar(toolitems=[('Home', 'Reset original view', 'home', 'home'), ('Back', 'Back to previous …"
      ]
     },
     "metadata": {},
     "output_type": "display_data"
    },
    {
     "ename": "NameError",
     "evalue": "name 'time_to_reach' is not defined",
     "output_type": "error",
     "traceback": [
      "\u001b[0;31m---------------------------------------------------------------------------\u001b[0m",
      "\u001b[0;31mNameError\u001b[0m                                 Traceback (most recent call last)",
      "\u001b[0;32m/tmp/ipykernel_6443/2282883714.py\u001b[0m in \u001b[0;36m<module>\u001b[0;34m\u001b[0m\n\u001b[1;32m      2\u001b[0m \u001b[0;34m\u001b[0m\u001b[0m\n\u001b[1;32m      3\u001b[0m \u001b[0mfig5\u001b[0m\u001b[0;34m,\u001b[0m\u001b[0max5\u001b[0m\u001b[0;34m=\u001b[0m \u001b[0mplt\u001b[0m\u001b[0;34m.\u001b[0m\u001b[0msubplots\u001b[0m\u001b[0;34m(\u001b[0m\u001b[0;34m)\u001b[0m\u001b[0;34m\u001b[0m\u001b[0;34m\u001b[0m\u001b[0m\n\u001b[0;32m----> 4\u001b[0;31m \u001b[0max5\u001b[0m\u001b[0;34m.\u001b[0m\u001b[0mhist\u001b[0m\u001b[0;34m(\u001b[0m\u001b[0mtime_to_reach\u001b[0m\u001b[0;34m,\u001b[0m \u001b[0;36m10\u001b[0m\u001b[0;34m,\u001b[0m \u001b[0mlabel\u001b[0m\u001b[0;34m=\u001b[0m\u001b[0;34m'time to reach goal'\u001b[0m\u001b[0;34m,\u001b[0m \u001b[0mcolor\u001b[0m\u001b[0;34m=\u001b[0m\u001b[0;34m'red'\u001b[0m\u001b[0;34m,\u001b[0m\u001b[0mlw\u001b[0m\u001b[0;34m=\u001b[0m\u001b[0;36m10\u001b[0m\u001b[0;34m)\u001b[0m\u001b[0;34m\u001b[0m\u001b[0;34m\u001b[0m\u001b[0m\n\u001b[0m\u001b[1;32m      5\u001b[0m \u001b[0max5\u001b[0m\u001b[0;34m.\u001b[0m\u001b[0mlegend\u001b[0m\u001b[0;34m(\u001b[0m\u001b[0;34m)\u001b[0m\u001b[0;34m\u001b[0m\u001b[0;34m\u001b[0m\u001b[0m\n\u001b[1;32m      6\u001b[0m \u001b[0max5\u001b[0m\u001b[0;34m.\u001b[0m\u001b[0mset_title\u001b[0m\u001b[0;34m(\u001b[0m\u001b[0;34m\"Time to reach Goal\"\u001b[0m\u001b[0;34m)\u001b[0m\u001b[0;34m\u001b[0m\u001b[0;34m\u001b[0m\u001b[0m\n",
      "\u001b[0;31mNameError\u001b[0m: name 'time_to_reach' is not defined"
     ]
    }
   ],
   "source": [
    "# For Time:\n",
    "\n",
    "fig5,ax5= plt.subplots()\n",
    "ax5.hist(time_to_reach, 10, label='time to reach goal', color='red',lw=10)\n",
    "ax5.legend()\n",
    "ax5.set_title(\"Time to reach Goal\")\n",
    "ax5.set_xlabel('time (s)')\n",
    "\n",
    "# function called to initialize the plot\n",
    "def init5():\n",
    "    ax5.hist(time_to_reach, 10, label='time to reach goal', color='red',lw=10)\n",
    "\n",
    "# function called to update periodically the plot    \n",
    "def animate5(i):\n",
    "    global time_to_reach, ax5\n",
    "    ax5.hist(time_to_reach,10, color='red',lw=10)\n",
    "    \n",
    "ani5=animation.FuncAnimation(fig5, animate5,init_func=init5, frames=100, interval=100, blit=True)"
   ]
  },
  {
   "cell_type": "code",
   "execution_count": 15,
   "id": "916d3f83",
   "metadata": {},
   "outputs": [
    {
     "name": "stderr",
     "output_type": "stream",
     "text": [
      "ERROR:tornado.application:Exception in callback <bound method TimerBase._on_timer of <matplotlib.backends.backend_webagg_core.TimerTornado object at 0x7fedb0c5a340>>\n",
      "Traceback (most recent call last):\n",
      "  File \"/usr/local/lib/python3.8/dist-packages/tornado/ioloop.py\", line 905, in _run\n",
      "    return self.callback()\n",
      "  File \"/usr/lib/python3/dist-packages/matplotlib/backend_bases.py\", line 1194, in _on_timer\n",
      "    ret = func(*args, **kwargs)\n",
      "  File \"/usr/lib/python3/dist-packages/matplotlib/animation.py\", line 1447, in _step\n",
      "    still_going = Animation._step(self, *args)\n",
      "  File \"/usr/lib/python3/dist-packages/matplotlib/animation.py\", line 1173, in _step\n",
      "    self._draw_next_frame(framedata, self._blit)\n",
      "  File \"/usr/lib/python3/dist-packages/matplotlib/animation.py\", line 1192, in _draw_next_frame\n",
      "    self._draw_frame(framedata)\n",
      "  File \"/usr/lib/python3/dist-packages/matplotlib/animation.py\", line 1755, in _draw_frame\n",
      "    self._drawn_artists = self._func(framedata, *self._args)\n",
      "  File \"/tmp/ipykernel_6443/4294782291.py\", line 49, in animate2\n",
      "    ax2.set_xlim((timeNow-5,timeNow+5))\n",
      "NameError: name 'timeNow' is not defined\n",
      "ERROR:tornado.application:Exception in callback <bound method TimerBase._on_timer of <matplotlib.backends.backend_webagg_core.TimerTornado object at 0x7fedb0a78dc0>>\n",
      "Traceback (most recent call last):\n",
      "  File \"/usr/local/lib/python3.8/dist-packages/tornado/ioloop.py\", line 905, in _run\n",
      "    return self.callback()\n",
      "  File \"/usr/lib/python3/dist-packages/matplotlib/backend_bases.py\", line 1194, in _on_timer\n",
      "    ret = func(*args, **kwargs)\n",
      "  File \"/usr/lib/python3/dist-packages/matplotlib/animation.py\", line 1447, in _step\n",
      "    still_going = Animation._step(self, *args)\n",
      "  File \"/usr/lib/python3/dist-packages/matplotlib/animation.py\", line 1173, in _step\n",
      "    self._draw_next_frame(framedata, self._blit)\n",
      "  File \"/usr/lib/python3/dist-packages/matplotlib/animation.py\", line 1192, in _draw_next_frame\n",
      "    self._draw_frame(framedata)\n",
      "  File \"/usr/lib/python3/dist-packages/matplotlib/animation.py\", line 1755, in _draw_frame\n",
      "    self._drawn_artists = self._func(framedata, *self._args)\n",
      "  File \"/tmp/ipykernel_6443/4294782291.py\", line 39, in animate1\n",
      "    ax1.set_xlim((timeNow-5,timeNow+5))\n",
      "NameError: name 'timeNow' is not defined\n",
      "ERROR:tornado.application:Exception in callback <bound method TimerBase._on_timer of <matplotlib.backends.backend_webagg_core.TimerTornado object at 0x7fedb0a82f70>>\n",
      "Traceback (most recent call last):\n",
      "  File \"/usr/local/lib/python3.8/dist-packages/tornado/ioloop.py\", line 905, in _run\n",
      "    return self.callback()\n",
      "  File \"/usr/lib/python3/dist-packages/matplotlib/backend_bases.py\", line 1194, in _on_timer\n",
      "    ret = func(*args, **kwargs)\n",
      "  File \"/usr/lib/python3/dist-packages/matplotlib/animation.py\", line 1447, in _step\n",
      "    still_going = Animation._step(self, *args)\n",
      "  File \"/usr/lib/python3/dist-packages/matplotlib/animation.py\", line 1173, in _step\n",
      "    self._draw_next_frame(framedata, self._blit)\n",
      "  File \"/usr/lib/python3/dist-packages/matplotlib/animation.py\", line 1192, in _draw_next_frame\n",
      "    self._draw_frame(framedata)\n",
      "  File \"/usr/lib/python3/dist-packages/matplotlib/animation.py\", line 1755, in _draw_frame\n",
      "    self._drawn_artists = self._func(framedata, *self._args)\n",
      "  File \"/tmp/ipykernel_6443/4294782291.py\", line 49, in animate2\n",
      "    ax2.set_xlim((timeNow-5,timeNow+5))\n",
      "NameError: name 'timeNow' is not defined\n",
      "ERROR:tornado.application:Exception in callback <bound method TimerBase._on_timer of <matplotlib.backends.backend_webagg_core.TimerTornado object at 0x7fedb0c53370>>\n",
      "Traceback (most recent call last):\n",
      "  File \"/usr/local/lib/python3.8/dist-packages/tornado/ioloop.py\", line 905, in _run\n",
      "    return self.callback()\n",
      "  File \"/usr/lib/python3/dist-packages/matplotlib/backend_bases.py\", line 1194, in _on_timer\n",
      "    ret = func(*args, **kwargs)\n",
      "  File \"/usr/lib/python3/dist-packages/matplotlib/animation.py\", line 1447, in _step\n",
      "    still_going = Animation._step(self, *args)\n",
      "  File \"/usr/lib/python3/dist-packages/matplotlib/animation.py\", line 1173, in _step\n",
      "    self._draw_next_frame(framedata, self._blit)\n",
      "  File \"/usr/lib/python3/dist-packages/matplotlib/animation.py\", line 1192, in _draw_next_frame\n",
      "    self._draw_frame(framedata)\n",
      "  File \"/usr/lib/python3/dist-packages/matplotlib/animation.py\", line 1755, in _draw_frame\n",
      "    self._drawn_artists = self._func(framedata, *self._args)\n",
      "  File \"/tmp/ipykernel_6443/4294782291.py\", line 39, in animate1\n",
      "    ax1.set_xlim((timeNow-5,timeNow+5))\n",
      "NameError: name 'timeNow' is not defined\n",
      "ERROR:tornado.application:Exception in callback <bound method TimerBase._on_timer of <matplotlib.backends.backend_webagg_core.TimerTornado object at 0x7fedb095fc70>>\n",
      "Traceback (most recent call last):\n",
      "  File \"/usr/local/lib/python3.8/dist-packages/tornado/ioloop.py\", line 905, in _run\n",
      "    return self.callback()\n",
      "  File \"/usr/lib/python3/dist-packages/matplotlib/backend_bases.py\", line 1194, in _on_timer\n",
      "    ret = func(*args, **kwargs)\n",
      "  File \"/usr/lib/python3/dist-packages/matplotlib/animation.py\", line 1447, in _step\n",
      "    still_going = Animation._step(self, *args)\n",
      "  File \"/usr/lib/python3/dist-packages/matplotlib/animation.py\", line 1173, in _step\n",
      "    self._draw_next_frame(framedata, self._blit)\n",
      "  File \"/usr/lib/python3/dist-packages/matplotlib/animation.py\", line 1192, in _draw_next_frame\n",
      "    self._draw_frame(framedata)\n",
      "  File \"/usr/lib/python3/dist-packages/matplotlib/animation.py\", line 1755, in _draw_frame\n",
      "    self._drawn_artists = self._func(framedata, *self._args)\n",
      "  File \"/tmp/ipykernel_6443/3433071621.py\", line 41, in animate1\n",
      "    ax1.set_xlim((timeNow-5,timeNow+5))\n",
      "NameError: name 'timeNow' is not defined\n"
     ]
    },
    {
     "data": {
      "application/vnd.jupyter.widget-view+json": {
       "model_id": "3b2e0bbc3e424e2892507669e77b4c87",
       "version_major": 2,
       "version_minor": 0
      },
      "text/plain": [
       "Canvas(toolbar=Toolbar(toolitems=[('Home', 'Reset original view', 'home', 'home'), ('Back', 'Back to previous …"
      ]
     },
     "metadata": {},
     "output_type": "display_data"
    },
    {
     "ename": "NameError",
     "evalue": "name 'stats' is not defined",
     "output_type": "error",
     "traceback": [
      "\u001b[0;31m---------------------------------------------------------------------------\u001b[0m",
      "\u001b[0;31mNameError\u001b[0m                                 Traceback (most recent call last)",
      "\u001b[0;32m/tmp/ipykernel_6443/3762301543.py\u001b[0m in \u001b[0;36m<module>\u001b[0;34m\u001b[0m\n\u001b[1;32m      4\u001b[0m \u001b[0mfig6\u001b[0m\u001b[0;34m,\u001b[0m\u001b[0max6\u001b[0m \u001b[0;34m=\u001b[0m \u001b[0mplt\u001b[0m\u001b[0;34m.\u001b[0m\u001b[0msubplots\u001b[0m\u001b[0;34m(\u001b[0m\u001b[0;34m)\u001b[0m\u001b[0;34m\u001b[0m\u001b[0;34m\u001b[0m\u001b[0m\n\u001b[1;32m      5\u001b[0m \u001b[0mlegend\u001b[0m \u001b[0;34m=\u001b[0m \u001b[0;34m[\u001b[0m\u001b[0;34m'reached'\u001b[0m\u001b[0;34m,\u001b[0m \u001b[0;34m'cancelled'\u001b[0m\u001b[0;34m]\u001b[0m\u001b[0;34m\u001b[0m\u001b[0;34m\u001b[0m\u001b[0m\n\u001b[0;32m----> 6\u001b[0;31m \u001b[0max6\u001b[0m\u001b[0;34m.\u001b[0m\u001b[0mbar\u001b[0m\u001b[0;34m(\u001b[0m\u001b[0mlegend\u001b[0m\u001b[0;34m,\u001b[0m\u001b[0mstats\u001b[0m\u001b[0;34m,\u001b[0m\u001b[0mcolor\u001b[0m \u001b[0;34m=\u001b[0m \u001b[0;34m'r'\u001b[0m\u001b[0;34m,\u001b[0m \u001b[0mwidth\u001b[0m \u001b[0;34m=\u001b[0m \u001b[0;36m0.5\u001b[0m\u001b[0;34m)\u001b[0m\u001b[0;34m\u001b[0m\u001b[0;34m\u001b[0m\u001b[0m\n\u001b[0m\u001b[1;32m      7\u001b[0m \u001b[0max6\u001b[0m\u001b[0;34m.\u001b[0m\u001b[0mset_title\u001b[0m\u001b[0;34m(\u001b[0m\u001b[0;34m\"Reached and Cancelled goal\"\u001b[0m\u001b[0;34m)\u001b[0m\u001b[0;34m\u001b[0m\u001b[0;34m\u001b[0m\u001b[0m\n\u001b[1;32m      8\u001b[0m \u001b[0;34m\u001b[0m\u001b[0m\n",
      "\u001b[0;31mNameError\u001b[0m: name 'stats' is not defined"
     ]
    }
   ],
   "source": [
    "# For Reaching and Cancelled Goals:\n",
    "\n",
    "# setting the figure properties\n",
    "fig6,ax6 = plt.subplots()\n",
    "legend = ['reached', 'cancelled']\n",
    "ax6.bar(legend,stats,color = 'r', width = 0.5)\n",
    "ax6.set_title(\"Reached and Cancelled goal\")\n",
    "\n",
    "# function called to initialize the plot\n",
    "def init6():\n",
    "    ax6.bar(legend,stats,color = 'r', width = 0.5)\n",
    "\n",
    "# function called to update periodically the plot\n",
    "def animate6(i):\n",
    "    global stats, ax6\n",
    "    ax6.bar(legend,stats,color = 'r', width = 0.5)\n",
    "    \n",
    "ani6=animation.FuncAnimation(fig6, animate6, init_func=init6, frames=100, interval=100, blit=True)"
   ]
  },
  {
   "cell_type": "code",
   "execution_count": null,
   "id": "771e4964",
   "metadata": {},
   "outputs": [],
   "source": []
  },
  {
   "cell_type": "code",
   "execution_count": null,
   "id": "3c63e144",
   "metadata": {},
   "outputs": [],
   "source": []
  }
 ],
 "metadata": {
  "hide_input": false,
  "kernelspec": {
   "display_name": "Python 3 (ipykernel)",
   "language": "python",
   "name": "python3"
  },
  "language_info": {
   "codemirror_mode": {
    "name": "ipython",
    "version": 3
   },
   "file_extension": ".py",
   "mimetype": "text/x-python",
   "name": "python",
   "nbconvert_exporter": "python",
   "pygments_lexer": "ipython3",
   "version": "3.8.5"
  },
  "toc": {
   "base_numbering": 1,
   "nav_menu": {},
   "number_sections": true,
   "sideBar": true,
   "skip_h1_title": false,
   "title_cell": "Table of Contents",
   "title_sidebar": "Contents",
   "toc_cell": false,
   "toc_position": {},
   "toc_section_display": true,
   "toc_window_display": false
  },
  "varInspector": {
   "cols": {
    "lenName": 16,
    "lenType": 16,
    "lenVar": 40
   },
   "kernels_config": {
    "python": {
     "delete_cmd_postfix": "",
     "delete_cmd_prefix": "del ",
     "library": "var_list.py",
     "varRefreshCmd": "print(var_dic_list())"
    },
    "r": {
     "delete_cmd_postfix": ") ",
     "delete_cmd_prefix": "rm(",
     "library": "var_list.r",
     "varRefreshCmd": "cat(var_dic_list()) "
    }
   },
   "types_to_exclude": [
    "module",
    "function",
    "builtin_function_or_method",
    "instance",
    "_Feature"
   ],
   "window_display": false
  }
 },
 "nbformat": 4,
 "nbformat_minor": 5
}
